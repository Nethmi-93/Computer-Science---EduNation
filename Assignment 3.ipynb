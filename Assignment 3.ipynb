{
 "cells": [
  {
   "cell_type": "markdown",
   "id": "b8294b61-59af-47c6-883a-6aa5d94d2bd8",
   "metadata": {},
   "source": [
    "### **Assignment 3**\n",
    "#### Egodawaththa Arachchige Nethmi Nayanathra\n",
    "#### Date - 2025-02-15"
   ]
  },
  {
   "cell_type": "code",
   "execution_count": 5,
   "id": "3dc66178-5a0b-4fe3-9bda-e1a29b3ded13",
   "metadata": {},
   "outputs": [
    {
     "ename": "NameError",
     "evalue": "name 'product' is not defined",
     "output_type": "error",
     "traceback": [
      "\u001b[1;31m---------------------------------------------------------------------------\u001b[0m",
      "\u001b[1;31mNameError\u001b[0m                                 Traceback (most recent call last)",
      "Cell \u001b[1;32mIn[5], line 3\u001b[0m\n\u001b[0;32m      1\u001b[0m \u001b[38;5;66;03m#1. \u001b[39;00m\n\u001b[0;32m      2\u001b[0m Product \u001b[38;5;241m=\u001b[39m \u001b[38;5;28;01mlambda\u001b[39;00m x, y: x \u001b[38;5;241m*\u001b[39m y\n\u001b[1;32m----> 3\u001b[0m \u001b[38;5;28mprint\u001b[39m(product(\u001b[38;5;241m5\u001b[39m , \u001b[38;5;241m6\u001b[39m))\n",
      "\u001b[1;31mNameError\u001b[0m: name 'product' is not defined"
     ]
    }
   ],
   "source": [
    " #1. \n",
    "Product = lambda x, y: x * y\n",
    "print(product(5 , 6))"
   ]
  },
  {
   "cell_type": "code",
   "execution_count": null,
   "id": "4c5c5ba0-fb64-4a86-8b7a-b283f90e87b8",
   "metadata": {},
   "outputs": [],
   "source": []
  }
 ],
 "metadata": {
  "kernelspec": {
   "display_name": "Python [conda env:base] *",
   "language": "python",
   "name": "conda-base-py"
  },
  "language_info": {
   "codemirror_mode": {
    "name": "ipython",
    "version": 3
   },
   "file_extension": ".py",
   "mimetype": "text/x-python",
   "name": "python",
   "nbconvert_exporter": "python",
   "pygments_lexer": "ipython3",
   "version": "3.12.7"
  }
 },
 "nbformat": 4,
 "nbformat_minor": 5
}
